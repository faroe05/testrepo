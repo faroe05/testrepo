{
  "metadata": {
    "kernelspec": {
      "name": "python",
      "display_name": "Python (Pyodide)",
      "language": "python"
    },
    "language_info": {
      "codemirror_mode": {
        "name": "python",
        "version": 3
      },
      "file_extension": ".py",
      "mimetype": "text/x-python",
      "name": "python",
      "nbconvert_exporter": "python",
      "pygments_lexer": "ipython3",
      "version": "3.8"
    }
  },
  "nbformat_minor": 4,
  "nbformat": 4,
  "cells": [
    {
      "cell_type": "markdown",
      "source": "<center>\n    <img src=\"https://cf-courses-data.s3.us.cloud-object-storage.appdomain.cloud/IBMDeveloperSkillsNetwork-DS0105EN-SkillsNetwork/labs/Module2/images/SN_web_lightmode.png\" width=\"300\" alt=\"cognitiveclass.ai logo\">\n</center>\n",
      "metadata": {}
    },
    {
      "cell_type": "markdown",
      "source": "#### Add your code below following the instructions given in the course\n",
      "metadata": {}
    },
    {
      "cell_type": "markdown",
      "source": "# Data Science Tools and Ecosystem",
      "metadata": {}
    },
    {
      "cell_type": "markdown",
      "source": "In this notebook, Data Science Tools and Ecosystem are summarized.",
      "metadata": {}
    },
    {
      "cell_type": "markdown",
      "source": "Objectives:\n* Data science languages\n* Data science librarires\n* Data science tools\n* Arithmetic expression examples",
      "metadata": {}
    },
    {
      "cell_type": "markdown",
      "source": "Some of the popular languages that Data Scientists use areSome of the popular languages that Data Scientists use are:\n* Python\n* R\n* SQL",
      "metadata": {}
    },
    {
      "cell_type": "markdown",
      "source": "Some of the commonly used libraries used by Data Scientists include:Some of the commonly used libraries used by Data Scientists include:\n1. NumPy: a library for scientific computing with Python \n2. Pandas: a library for data manipulation and analysis \n3. Scikit-learn: a library for machine learning algorithms \n4. Matplotlib: a library for data visualization \n5. Seaborn: a library for statistical data visualization \n6. TensorFlow: a library for deep learning 1. NumPy: a library for scientific computing with Python \n2. Pandas: a library for data manipulation and analysis \n3. Scikit-learn: a library for machine learning algorithms \n4. Matplotlib: a library for data visualization \n5. Seaborn: a library for statistical data visualization \n6. TensorFlow: a library for deep learning ",
      "metadata": {}
    },
    {
      "cell_type": "markdown",
      "source": "Data Science Tools:\n1. Python \n2. R \n3. Tableau \n4. Excel \n5. TensorFlow\n6. Apache Spark \n7. Jupyter Notebook \n8. MATLAB 1. Python \n2. R \n3. Tableau \n4. Excel \n5. TensorFlow\n6. Apache Spark \n7. Jupyter Notebook \n8. MATLAB ",
      "metadata": {}
    },
    {
      "cell_type": "markdown",
      "source": "### Below are a few examples of evaluating arithmetic expressions in PythonBelow are a few examples of evaluating arithmetic expressions in Python",
      "metadata": {}
    },
    {
      "cell_type": "code",
      "source": "(3*4)+5\n#This a simple arithmetic expression to mutiply then add integers ",
      "metadata": {
        "trusted": true
      },
      "execution_count": 4,
      "outputs": [
        {
          "execution_count": 4,
          "output_type": "execute_result",
          "data": {
            "text/plain": "17"
          },
          "metadata": {}
        }
      ]
    },
    {
      "cell_type": "code",
      "source": "200/60\n#his will convert 200 minutes to hours by diving by 60",
      "metadata": {
        "trusted": true
      },
      "execution_count": 5,
      "outputs": [
        {
          "execution_count": 5,
          "output_type": "execute_result",
          "data": {
            "text/plain": "3.3333333333333335"
          },
          "metadata": {}
        }
      ]
    },
    {
      "cell_type": "markdown",
      "source": "## Author\nEder Cruz",
      "metadata": {}
    }
  ]
}